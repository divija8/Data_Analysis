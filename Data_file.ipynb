{
 "cells": [
  {
   "cell_type": "code",
   "execution_count": 1,
   "id": "a159baa3-e9a7-4e91-b7a6-969c39341530",
   "metadata": {},
   "outputs": [
    {
     "name": "stdout",
     "output_type": "stream",
     "text": [
      "Processing month: 01\n",
      "Successfully extracted data for month: 01\n",
      "Processing month: 02\n",
      "Successfully extracted data for month: 02\n",
      "Processing month: 03\n",
      "Successfully extracted data for month: 03\n",
      "Processing month: 04\n",
      "Successfully extracted data for month: 04\n",
      "Processing month: 05\n",
      "Successfully extracted data for month: 05\n",
      "Processing month: 06\n",
      "Successfully extracted data for month: 06\n",
      "Processing month: 07\n",
      "Successfully extracted data for month: 07\n",
      "Processing month: 08\n",
      "Successfully extracted data for month: 08\n",
      "Processing month: 09\n",
      "Successfully extracted data for month: 09\n",
      "Processing month: 10\n",
      "Successfully extracted data for month: 10\n",
      "Processing month: 11\n",
      "Successfully extracted data for month: 11\n",
      "Processing month: 12\n",
      "Successfully extracted data for month: 12\n"
     ]
    }
   ],
   "source": [
    "import requests\n",
    "import zipfile\n",
    "import io\n",
    "import os\n",
    "\n",
    "# Create a directory to store the downloaded data\n",
    "os.makedirs(\"bike_data_2018\", exist_ok=True)\n",
    "\n",
    "# Loop through each month of the year\n",
    "for month in range(1, 13):\n",
    "    # Convert the month number to a string with leading zero if necessary\n",
    "    month_string = str(month)\n",
    "    month_leading_zero = month_string.zfill(2)\n",
    "    \n",
    "    # Print the month string for debugging purposes\n",
    "    print(f\"Processing month: {month_leading_zero}\")\n",
    "    \n",
    "    # Construct the URL for the bike data\n",
    "    bike_data_url_2018 = f'https://s3.amazonaws.com/fordgobike-data/2018{month_leading_zero}-fordgobike-tripdata.csv.zip'\n",
    "    \n",
    "    # Make a GET request to download the data\n",
    "    response_2018 = requests.get(bike_data_url_2018)\n",
    "    \n",
    "    # Check if the request was successful\n",
    "    if response_2018.status_code == 200:\n",
    "        # Create a ZipFile object from the response content\n",
    "        unzipped_files_2018 = zipfile.ZipFile(io.BytesIO(response_2018.content))\n",
    "        \n",
    "        # Extract all the files in the zip archive to the specified directory\n",
    "        unzipped_files_2018.extractall(path=\"bike_data_2018\")\n",
    "        print(f\"Successfully extracted data for month: {month_leading_zero}\")\n",
    "    else:\n",
    "        print(f\"Failed to download data for month: {month_leading_zero}, status code: {response_2018.status_code}\")\n"
   ]
  },
  {
   "cell_type": "code",
   "execution_count": null,
   "id": "02b40c94-dd30-4f57-b37f-1ba4d2cc0522",
   "metadata": {},
   "outputs": [],
   "source": []
  }
 ],
 "metadata": {
  "kernelspec": {
   "display_name": "Python 3 (ipykernel)",
   "language": "python",
   "name": "python3"
  },
  "language_info": {
   "codemirror_mode": {
    "name": "ipython",
    "version": 3
   },
   "file_extension": ".py",
   "mimetype": "text/x-python",
   "name": "python",
   "nbconvert_exporter": "python",
   "pygments_lexer": "ipython3",
   "version": "3.11.8"
  }
 },
 "nbformat": 4,
 "nbformat_minor": 5
}
